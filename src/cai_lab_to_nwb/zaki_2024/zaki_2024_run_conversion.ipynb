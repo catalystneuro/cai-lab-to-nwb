{
 "cells": [
  {
   "cell_type": "markdown",
   "id": "90ae0edb-2fab-47dc-ad31-e79cf2905733",
   "metadata": {},
   "source": [
    "# Zaki 2024 dataset conversion to NWB\n",
    "\n",
    "This notebook demonstrates how to convert an example session from Zaki 2024 dataset to NWB.\n",
    "\n",
    "## Notes on the conversion\n",
    "\n",
    "The conversion notes is located in `src/cai_lab_to_nwb/zaki_2024/notes/zaki_2024_notes.md`. This file contains information about the expected file structure and the conversion process.\n",
    "\n",
    "## Dataset structure\n",
    "\n",
    "This notebook demonstrates how to convert an example session to NWB.\n",
    "\n",
    "This dataset have the following data streams:\n",
    "* Encoding and Recall sessions:\n",
    "    - Miniscope imaging (.avi)\n",
    "    - Video of behavior (.wmv)\n",
    "    - Freezing analysis output (.csv)\n",
    "    - Minian Segmentation (.zarr)\n",
    "    - Shock stimulus times (conversion parameter)\n",
    "* Offline sessions:\n",
    "    - Miniscope imaging (.avi)\n",
    "    - Minian Segmentation (.zarr)\n",
    "    - EEG and EMG (.edf)\n",
    "    - Sleep classification (.csv)"
   ]
  },
  {
   "cell_type": "markdown",
   "id": "9309ffc0-aedb-4c21-9d20-8442813c29e2",
   "metadata": {},
   "source": [
    "## Convert a single session to NWB\n",
    "\n",
    "The `zaki_2024_convert_session.py` script defines the `session_to_nwb` function that converts a session to NWB."
   ]
  },
  {
   "cell_type": "code",
   "execution_count": null,
   "id": "57c3411d79670405",
   "metadata": {
    "ExecuteTime": {
     "end_time": "2024-12-09T14:43:38.501532Z",
     "start_time": "2024-12-09T14:43:38.492386Z"
    }
   },
   "outputs": [],
   "source": [
    "from pathlib import Path"
   ]
  },
  {
   "cell_type": "markdown",
   "id": "9aeffb66fe062973",
   "metadata": {},
   "source": [
    "### Define conversion parameters\n",
    "This can be done in three ways:\n",
    "1. Manually define the parameters for the session you want convert\n",
    "2. Use the define_conversion_parameters function to populate automatically the conversion_parameter.yaml file \n",
    "3. Manually modify the already generated conversion_parameter.yaml file (for example to exclude a specific data stream from the conversion) "
   ]
  },
  {
   "cell_type": "markdown",
   "id": "56214f69928ca9c",
   "metadata": {},
   "source": [
    "#### 1. Manually define the conversion parameters"
   ]
  },
  {
   "cell_type": "code",
   "execution_count": null,
   "id": "702d90064f024a4c",
   "metadata": {},
   "outputs": [],
   "source": [
    "session_to_nwb_kwargs = {\n",
    "    'date_str': '2022_09_17',\n",
    "    'edf_file_path': 'D:/Ca_EEG_EDF/Ca_EEG3-4_EDF/Ca_EEG3-4_091722.edf',\n",
    "    'experiment_dir_path': 'D:/Ca_EEG_Experiment/Ca_EEG3-4/Ca_EEG3-4_Offline/Ca_EEG3-4_OfflineDay1',\n",
    "    'freezing_output_file_path': None,\n",
    "    'imaging_folder_path': 'D:/Ca_EEG_Experiment/Ca_EEG3-4/Ca_EEG3-4_Offline/Ca_EEG3-4_OfflineDay1/2022_09_17/17_10_48',\n",
    "    'minian_folder_path': 'D:/Ca_EEG_Calcium/Ca_EEG3-4/Ca_EEG3-4_OfflineDay1Session16/minian',\n",
    "    'output_dir_path': 'D:/cai_lab_conversion_nwb',\n",
    "    'session_description': 'After Neutral Exposure and Fear Conditioning sessions, mice were taken out of the testing chambers and immediately placed in their homecage (scope was not removed).The homecage was placed in a dark grey storage bin with a webcam on top of the bin, taped to a wooden plank, looking down into the homecage. Mouse behavior and calcium were recorded for an hour.',\n",
    "    'session_id': 'OfflineDay1Session16',\n",
    "    'shock_stimulus': None,\n",
    "    'sleep_classification_file_path': 'D:/Ca_EEG_Sleep/Ca_EEG3-4/AlignedSleep/Ca_EEG3-4_OfflineDay1Session16_AlignedSleep.csv',\n",
    "    'subject_id': 'Ca_EEG3-4',\n",
    "    'time_str': '17_10_48',\n",
    "    'video_file_path': None\n",
    "    }"
   ]
  },
  {
   "cell_type": "markdown",
   "id": "191af3570b718e5d",
   "metadata": {},
   "source": [
    "#### 2. Automatically generate the conversion parameters"
   ]
  },
  {
   "cell_type": "code",
   "execution_count": null,
   "id": "a221c40f825185d",
   "metadata": {
    "ExecuteTime": {
     "end_time": "2024-12-09T14:43:50.341190Z",
     "start_time": "2024-12-09T14:43:42.230498Z"
    }
   },
   "outputs": [],
   "source": [
    "from cai_lab_to_nwb.zaki_2024.utils import update_conversion_parameters_yaml\n",
    "from neuroconv.utils import load_dict_from_file\n",
    "\n",
    "subject_id = \"Ca_EEG3-4\"\n",
    "session_id = \"OfflineDay1Session16\"\n",
    "\n",
    "update_conversion_parameters_yaml(\n",
    "    subject_id=subject_id,\n",
    "    data_dir_path=Path(\"D:/Cai-CN-data-share/\"),\n",
    "    output_dir_path=Path(\"D:/cai_lab_conversion_nwb/\"),\n",
    "    experiment_design_file_path=Path(\"D:/Cai-CN-data-share/Ca_EEG_Design.xlsx\"),\n",
    "    session_ids=[session_id],\n",
    ")\n",
    "\n",
    "yaml_file_path = \"./utils/conversion_parameters.yaml\"\n",
    "conversion_parameter_dict = load_dict_from_file(yaml_file_path)\n",
    "session_to_nwb_kwargs = conversion_parameter_dict[subject_id][session_id]\n",
    "session_to_nwb_kwargs"
   ]
  },
  {
   "cell_type": "markdown",
   "id": "dea8fdad3c387ce3",
   "metadata": {},
   "source": [
    "#### 3. Manually modify the conversion parameters from yaml file"
   ]
  },
  {
   "cell_type": "code",
   "execution_count": null,
   "id": "79b70eb1e4451b03",
   "metadata": {},
   "outputs": [],
   "source": [
    "subject_id = \"Ca_EEG3-4\"\n",
    "session_id = \"OfflineDay1Session16\"\n",
    "yaml_file_path = \"./utils/conversion_parameters.yaml\"\n",
    "conversion_parameter_dict = load_dict_from_file(yaml_file_path)\n",
    "session_to_nwb_kwargs = conversion_parameter_dict[subject_id][session_id]\n",
    "# For instance if I don't want to include the imaging data in the nwbfile.\n",
    "print(session_to_nwb_kwargs[\"imaging_folder_path\"],session_to_nwb_kwargs[\"minian_folder_path\"])\n",
    "session_to_nwb_kwargs.update(\n",
    "    imaging_folder_path=None,\n",
    "    minian_folder_path=None,\n",
    ")\n",
    "print(session_to_nwb_kwargs[\"imaging_folder_path\"],session_to_nwb_kwargs[\"minian_folder_path\"])"
   ]
  },
  {
   "cell_type": "markdown",
   "id": "2cdc9ae50e691ae6",
   "metadata": {},
   "source": [
    "### Run Conversion of a single session\n",
    "**NB:** Before running the conversion you might want to check that the zaki_2024_metadata.yaml file is reporting all correct information about general session metadata, subject metadata and imaging metadata."
   ]
  },
  {
   "cell_type": "code",
   "execution_count": null,
   "id": "64346a9048a92e69",
   "metadata": {
    "ExecuteTime": {
     "end_time": "2024-12-10T09:29:09.882680Z",
     "start_time": "2024-12-10T09:29:09.875285Z"
    }
   },
   "outputs": [],
   "source": [
    "from cai_lab_to_nwb.zaki_2024.zaki_2024_convert_session import session_to_nwb\n",
    "\n",
    "print(session_to_nwb.__doc__)"
   ]
  },
  {
   "cell_type": "code",
   "execution_count": null,
   "id": "ca3883d4-c9df-4024-83fa-fb2c1082cc1f",
   "metadata": {
    "ExecuteTime": {
     "end_time": "2024-12-09T14:52:55.251533Z",
     "start_time": "2024-12-09T14:44:05.263247Z"
    }
   },
   "outputs": [],
   "source": [
    "# Optional parameters\n",
    "# Whether to overwrite an existing NWB file.\n",
    "overwrite = True\n",
    "# Whether to print verbose output.\n",
    "verbose = True\n",
    "\n",
    "session_to_nwb(**session_to_nwb_kwargs, overwrite=overwrite, verbose=verbose)"
   ]
  },
  {
   "cell_type": "markdown",
   "id": "32d2fb8714fa02d0",
   "metadata": {},
   "source": [
    "## Convert the week-long session of a subject to NWB\n",
    "\n",
    "The `zaki_2024_convert_week_session.py` script defines the `session_to_nwb` function that converts a session to NWB."
   ]
  },
  {
   "cell_type": "code",
   "execution_count": null,
   "id": "d22e5b4a1e7ae589",
   "metadata": {
    "ExecuteTime": {
     "end_time": "2024-12-09T14:59:55.103691Z",
     "start_time": "2024-12-09T14:53:05.464543Z"
    }
   },
   "outputs": [],
   "source": [
    "from pathlib import Path\n",
    "from zaki_2024_convert_week_session import session_to_nwb\n",
    "\n",
    "# Parameters for conversion\n",
    "data_dir_path = Path(\"D:/\")\n",
    "output_dir_path = Path(\"D:/cai_lab_conversion_nwb/\")\n",
    "subject_id = \"Ca_EEG3-4\"\n",
    "verbose = True\n",
    "\n",
    "session_to_nwb(\n",
    "    data_dir_path=data_dir_path,\n",
    "    output_dir_path=output_dir_path,\n",
    "    subject_id=subject_id,\n",
    "    verbose=verbose\n",
    ")"
   ]
  },
  {
   "cell_type": "markdown",
   "id": "87a4a835fc9d3bdf",
   "metadata": {},
   "source": [
    "## Convert all dataset to nwb\n",
    "The `zaki_2024_convert_all_sessions.py` script defines the `dataset_to_nwb` function that converts a session to NWB.\n",
    "\n",
    "**NB: dataset_to_nwb function uses conversion_parameters.yaml to extract automatically the conversion parameters for each session.** \n",
    "If you want to run all sessions at once make sure first that the yaml file is populated correctly. `dataset_to_nwb` only convert the sessions defined in the yaml file.\n",
    "You can auto-populate the yaml file by running `update_conversion_parameters_yaml` function for each subject. \n"
   ]
  },
  {
   "cell_type": "code",
   "execution_count": null,
   "id": "2a6c71d0debdf5ac",
   "metadata": {
    "ExecuteTime": {
     "start_time": "2024-12-09T15:04:46.234530Z"
    }
   },
   "outputs": [],
   "source": [
    "from pathlib import Path\n",
    "from zaki_2024_convert_all_sessions import dataset_to_nwb\n",
    "# Parameters for conversion\n",
    "data_dir_path = Path(\"D:/\")\n",
    "output_dir_path = Path(\"D:/cai_lab_conversion_nwb/\")\n",
    "max_workers = 1\n",
    "verbose = True\n",
    "\n",
    "dataset_to_nwb(\n",
    "    data_dir_path=data_dir_path,\n",
    "    output_dir_path=output_dir_path,\n",
    "    max_workers=max_workers,\n",
    "    verbose=verbose,\n",
    ")\n"
   ]
  }
 ],
 "metadata": {
  "kernelspec": {
   "display_name": "cai_lab_to_nwb_env",
   "language": "python",
   "name": "python3"
  },
  "language_info": {
   "codemirror_mode": {
    "name": "ipython",
    "version": 3
   },
   "file_extension": ".py",
   "mimetype": "text/x-python",
   "name": "python",
   "nbconvert_exporter": "python",
   "pygments_lexer": "ipython3",
   "version": "3.13.3"
  }
 },
 "nbformat": 4,
 "nbformat_minor": 5
}
