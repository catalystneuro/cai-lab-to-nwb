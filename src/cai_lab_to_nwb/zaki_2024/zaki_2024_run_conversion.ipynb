{
 "cells": [
  {
   "cell_type": "markdown",
   "id": "90ae0edb-2fab-47dc-ad31-e79cf2905733",
   "metadata": {},
   "source": [
    "# Zaki 2024 dataset conversion to NWB\n",
    "\n",
    "This notebook demonstrates how to convert an example session from Zaki 2024 dataset to NWB.\n",
    "\n",
    "## Notes on the conversion\n",
    "\n",
    "The conversion notes is located in `src/cai_lab_to_nwb/zaki_2024/notes/zaki_2024_notes.md`. This file contains information about the expected file structure and the conversion process.\n",
    "\n",
    "## Dataset structure\n",
    "\n",
    "This notebook demonstrates how to convert an example session to NWB.\n",
    "\n",
    "This dataset have the following data streams:\n",
    "* Encoding and Recall sessions:\n",
    "    - Miniscope imaging (.avi)\n",
    "    - Video of behavior (.wmv)\n",
    "    - Freezing analysis output (.csv)\n",
    "    - Minian Segmentation (.zarr)\n",
    "    - Shock stimulus times (conversion parameter)\n",
    "* Offline sessions:\n",
    "    - Miniscope imaging (.avi)\n",
    "    - Minian Segmentation (.zarr)\n",
    "    - EEG and EMG (.edf)\n",
    "    - Sleep classification (.csv)"
   ]
  },
  {
   "cell_type": "markdown",
   "id": "9309ffc0-aedb-4c21-9d20-8442813c29e2",
   "metadata": {},
   "source": [
    "## Convert a single session to NWB\n",
    "\n",
    "The `zaki_2024_convert_session.py` script defines the `session_to_nwb` function that converts a session to NWB."
   ]
  },
  {
   "metadata": {
    "ExecuteTime": {
     "end_time": "2024-12-09T14:43:38.501532Z",
     "start_time": "2024-12-09T14:43:38.492386Z"
    }
   },
   "cell_type": "code",
   "source": "from pathlib import Path",
   "id": "57c3411d79670405",
   "outputs": [],
   "execution_count": 1
  },
  {
   "metadata": {},
   "cell_type": "markdown",
   "source": [
    "### Define conversion parameters\n",
    "This can be done in three ways:\n",
    "1. Manually define the parameters for the session you want convert\n",
    "2. Use the define_conversion_parameters function to populate automatically the conversion_parameter.yaml file \n",
    "3. Manually modify the already generated conversion_parameter.yaml file (for example to exclude a specific data stream from the conversion) "
   ],
   "id": "9aeffb66fe062973"
  },
  {
   "metadata": {},
   "cell_type": "markdown",
   "source": "#### 1. Manually define the conversion parameters",
   "id": "56214f69928ca9c"
  },
  {
   "metadata": {},
   "cell_type": "code",
   "source": [
    "session_to_nwb_kwargs = {\n",
    "    'date_str': '2022_09_17',\n",
    "    'edf_file_path': 'D:/Ca_EEG_EDF/Ca_EEG3-4_EDF/Ca_EEG3-4_091722.edf',\n",
    "    'experiment_dir_path': 'D:/Ca_EEG_Experiment/Ca_EEG3-4/Ca_EEG3-4_Offline/Ca_EEG3-4_OfflineDay1',\n",
    "    'freezing_output_file_path': None,\n",
    "    'imaging_folder_path': 'D:/Ca_EEG_Experiment/Ca_EEG3-4/Ca_EEG3-4_Offline/Ca_EEG3-4_OfflineDay1/2022_09_17/17_10_48',\n",
    "    'minian_folder_path': 'D:/Ca_EEG_Calcium/Ca_EEG3-4/Ca_EEG3-4_OfflineDay1Session16/minian',\n",
    "    'output_dir_path': 'D:/cai_lab_conversion_nwb',\n",
    "    'session_description': 'After Neutral Exposure and Fear Conditioning sessions, mice were taken out of the testing chambers and immediately placed in their homecage (scope was not removed).The homecage was placed in a dark grey storage bin with a webcam on top of the bin, taped to a wooden plank, looking down into the homecage. Mouse behavior and calcium were recorded for an hour.',\n",
    "    'session_id': 'OfflineDay1Session16',\n",
    "    'shock_stimulus': None,\n",
    "    'sleep_classification_file_path': 'D:/Ca_EEG_Sleep/Ca_EEG3-4/AlignedSleep/Ca_EEG3-4_OfflineDay1Session16_AlignedSleep.csv',\n",
    "    'subject_id': 'Ca_EEG3-4',\n",
    "    'time_str': '17_10_48',\n",
    "    'video_file_path': None\n",
    "    }"
   ],
   "id": "702d90064f024a4c",
   "outputs": [],
   "execution_count": null
  },
  {
   "metadata": {},
   "cell_type": "markdown",
   "source": "#### 2. Automatically generate the conversion parameters",
   "id": "191af3570b718e5d"
  },
  {
   "metadata": {
    "ExecuteTime": {
     "end_time": "2024-12-09T14:43:50.341190Z",
     "start_time": "2024-12-09T14:43:42.230498Z"
    }
   },
   "cell_type": "code",
   "source": [
    "from utils import update_conversion_parameters_yaml\n",
    "from neuroconv.utils import load_dict_from_file\n",
    "\n",
    "subject_id = \"Ca_EEG3-4\"\n",
    "session_id = \"OfflineDay1Session16\"\n",
    "\n",
    "update_conversion_parameters_yaml(\n",
    "    subject_id=subject_id,\n",
    "    data_dir_path=Path(\"D:/\"),\n",
    "    output_dir_path=Path(\"D:/cai_lab_conversion_nwb/\"),\n",
    "    experiment_design_file_path=Path(\"D:/Ca_EEG_Design.xlsx\"),\n",
    "    session_ids=[session_id]\n",
    ")\n",
    "\n",
    "yaml_file_path = \"./utils/conversion_parameters.yaml\"\n",
    "conversion_parameter_dict = load_dict_from_file(yaml_file_path)\n",
    "session_to_nwb_kwargs = conversion_parameter_dict[subject_id][session_id]\n",
    "session_to_nwb_kwargs"
   ],
   "id": "a221c40f825185d",
   "outputs": [
    {
     "data": {
      "text/plain": [
       "{'date_str': '2022_09_17',\n",
       " 'edf_file_path': 'D:\\\\Ca_EEG_EDF\\\\Ca_EEG3-4_EDF\\\\Ca_EEG3-4_091722.edf',\n",
       " 'experiment_dir_path': 'D:\\\\Ca_EEG_Experiment\\\\Ca_EEG3-4\\\\Ca_EEG3-4_Offline\\\\Ca_EEG3-4_OfflineDay1',\n",
       " 'freezing_output_file_path': None,\n",
       " 'imaging_folder_path': 'D:\\\\Ca_EEG_Experiment\\\\Ca_EEG3-4\\\\Ca_EEG3-4_Offline\\\\Ca_EEG3-4_OfflineDay1\\\\2022_09_17\\\\17_10_48',\n",
       " 'minian_folder_path': 'D:\\\\Ca_EEG_Calcium\\\\Ca_EEG3-4\\\\Ca_EEG3-4_OfflineDay1Session16\\\\minian',\n",
       " 'output_dir_path': 'D:\\\\cai_lab_conversion_nwb',\n",
       " 'session_description': 'After Neutral Exposure and Fear Conditioning sessions, mice were taken out of the testing chambers and immediately placed in their homecage (scope was not removed).The homecage was placed in a dark grey storage bin with a webcam on top of the bin, taped to a wooden plank, looking down into the homecage. Mouse behavior and calcium were recorded for an hour.',\n",
       " 'session_id': 'OfflineDay1Session16',\n",
       " 'shock_stimulus': None,\n",
       " 'sleep_classification_file_path': 'D:\\\\Ca_EEG_Sleep\\\\Ca_EEG3-4\\\\AlignedSleep\\\\Ca_EEG3-4_OfflineDay1Session16_AlignedSleep.csv',\n",
       " 'subject_id': 'Ca_EEG3-4',\n",
       " 'time_str': '17_10_48',\n",
       " 'video_file_path': None}"
      ]
     },
     "execution_count": 2,
     "metadata": {},
     "output_type": "execute_result"
    }
   ],
   "execution_count": 2
  },
  {
   "metadata": {},
   "cell_type": "markdown",
   "source": "#### 3. Manually modify the conversion parameters from yaml file",
   "id": "dea8fdad3c387ce3"
  },
  {
   "metadata": {},
   "cell_type": "code",
   "source": [
    "subject_id = \"Ca_EEG3-4\"\n",
    "session_id = \"OfflineDay1Session16\"\n",
    "yaml_file_path = \"./utils/conversion_parameters.yaml\"\n",
    "conversion_parameter_dict = load_dict_from_file(yaml_file_path)\n",
    "session_to_nwb_kwargs = conversion_parameter_dict[subject_id][session_id]\n",
    "# For instance if I don't want to include the imaging data in the nwbfile.\n",
    "print(session_to_nwb_kwargs[\"imaging_folder_path\"],session_to_nwb_kwargs[\"minian_folder_path\"])\n",
    "session_to_nwb_kwargs.update(\n",
    "    imaging_folder_path=None,\n",
    "    minian_folder_path=None,\n",
    ")\n",
    "print(session_to_nwb_kwargs[\"imaging_folder_path\"],session_to_nwb_kwargs[\"minian_folder_path\"])"
   ],
   "id": "79b70eb1e4451b03",
   "outputs": [],
   "execution_count": null
  },
  {
   "metadata": {},
   "cell_type": "markdown",
   "source": "### Run Conversion of a single session",
   "id": "2cdc9ae50e691ae6"
  },
  {
   "metadata": {
    "ExecuteTime": {
     "end_time": "2024-12-09T14:52:55.251533Z",
     "start_time": "2024-12-09T14:44:05.263247Z"
    }
   },
   "cell_type": "code",
   "source": [
    "from zaki_2024_convert_session import session_to_nwb\n",
    "\n",
    "# Optional parameters\n",
    "# Whether to overwrite an existing NWB file.\n",
    "overwrite = True\n",
    "# Whether to print verbose output.\n",
    "verbose = True\n",
    "\n",
    "session_to_nwb(**session_to_nwb_kwargs, overwrite=overwrite, verbose=verbose)"
   ],
   "id": "ca3883d4-c9df-4024-83fa-fb2c1082cc1f",
   "outputs": [
    {
     "name": "stdout",
     "output_type": "stream",
     "text": [
      "Converting session OfflineDay1Session16 for subject Ca_EEG3-4\n",
      "Source data is valid!\n",
      "Metadata is valid!\n",
      "conversion_options is valid!\n"
     ]
    },
    {
     "name": "stderr",
     "output_type": "stream",
     "text": [
      "C:\\Users\\Utente\\CatalystNeuro\\neuroconv\\src\\neuroconv\\tools\\nwb_helpers\\_metadata_and_file_helpers.py:29: UserWarning: Custom description given to get_module does not match existing module description! Ignoring custom description.\n",
      "  warn(\n"
     ]
    },
    {
     "name": "stdout",
     "output_type": "stream",
     "text": [
      "NWB file saved at D:\\cai_lab_conversion_nwb\\sub-Ca_EEG3-4_ses-OfflineDay1Session16.nwb!\n",
      "Conversion took 8.83 minutes\n"
     ]
    }
   ],
   "execution_count": 3
  },
  {
   "metadata": {},
   "cell_type": "markdown",
   "source": [
    "## Convert the week-long session of a subject to NWB\n",
    "\n",
    "The `zaki_2024_convert_week_session.py` script defines the `session_to_nwb` function that converts a session to NWB."
   ],
   "id": "32d2fb8714fa02d0"
  },
  {
   "metadata": {
    "ExecuteTime": {
     "end_time": "2024-12-09T14:59:55.103691Z",
     "start_time": "2024-12-09T14:53:05.464543Z"
    }
   },
   "cell_type": "code",
   "source": [
    "from pathlib import Path\n",
    "from zaki_2024_convert_week_session import session_to_nwb\n",
    "\n",
    "# Parameters for conversion\n",
    "data_dir_path = Path(\"D:/\")\n",
    "output_dir_path = Path(\"D:/cai_lab_conversion_nwb/\")\n",
    "subject_id = \"Ca_EEG3-4\"\n",
    "verbose = True\n",
    "\n",
    "session_to_nwb(\n",
    "    data_dir_path=data_dir_path,\n",
    "    output_dir_path=output_dir_path,\n",
    "    subject_id=subject_id,\n",
    "    verbose=verbose\n",
    ")"
   ],
   "id": "d22e5b4a1e7ae589",
   "outputs": [
    {
     "name": "stdout",
     "output_type": "stream",
     "text": [
      "Converting week-long session\n",
      "Source data is valid!\n",
      "Extracting EDF parameters from D:\\Ca_EEG_EDF\\Ca_EEG3-4_EDF\\Ca_EEG3-4_091222.edf...\n",
      "EDF file detected\n",
      "Setting channel info structure...\n",
      "Creating raw.info structure...\n",
      "Conversion took 6.83 minutes\n"
     ]
    }
   ],
   "execution_count": 4
  },
  {
   "metadata": {},
   "cell_type": "markdown",
   "source": [
    "## Convert all dataset to nwb\n",
    "The `zaki_2024_convert_all_sessions.py` script defines the `dataset_to_nwb` function that converts a session to NWB.\n",
    "\n",
    "**NB: dataset_to_nwb function uses conversion_parameters.yaml to extract automatically the conversion parameters for each session.** \n",
    "If you want to run all sessions at once make sure first that the yaml file is populated correctly. `dataset_to_nwb` only convert the sessions defined in the yaml file.\n",
    "You can auto-populate the yaml file by running `update_conversion_parameters_yaml` function for each subject. \n"
   ],
   "id": "87a4a835fc9d3bdf"
  },
  {
   "metadata": {
    "jupyter": {
     "is_executing": true
    },
    "ExecuteTime": {
     "start_time": "2024-12-09T15:04:46.234530Z"
    }
   },
   "cell_type": "code",
   "source": [
    "from pathlib import Path\n",
    "from zaki_2024_convert_all_sessions import dataset_to_nwb\n",
    "# Parameters for conversion\n",
    "data_dir_path = Path(\"D:/\")\n",
    "output_dir_path = Path(\"D:/cai_lab_conversion_nwb/\")\n",
    "max_workers = 1\n",
    "verbose = True\n",
    "\n",
    "dataset_to_nwb(\n",
    "    data_dir_path=data_dir_path,\n",
    "    output_dir_path=output_dir_path,\n",
    "    max_workers=max_workers,\n",
    "    verbose=verbose,\n",
    ")\n"
   ],
   "id": "2a6c71d0debdf5ac",
   "outputs": [
    {
     "name": "stdout",
     "output_type": "stream",
     "text": [
      "Conversion parameters for subject Ca_EEG_Pilot1 were not defined. Please run utils/define_conversion_parameters.py for subject Ca_EEG_Pilot1.\n",
      "Conversion parameters for subject Ca_EEG_Pilot2 were not defined. Please run utils/define_conversion_parameters.py for subject Ca_EEG_Pilot2.\n",
      "Conversion parameters for subject Ca_EEG2-2 were not defined. Please run utils/define_conversion_parameters.py for subject Ca_EEG2-2.\n",
      "Conversion parameters for subject Ca_EEG2-3 were not defined. Please run utils/define_conversion_parameters.py for subject Ca_EEG2-3.\n",
      "Conversion parameters for subject Ca_EEG3-1 were not defined. Please run utils/define_conversion_parameters.py for subject Ca_EEG3-1.\n",
      "Conversion parameters for subject Ca_EEG3-2 were not defined. Please run utils/define_conversion_parameters.py for subject Ca_EEG3-2.\n",
      "Conversion parameters for subject Ca_EEG3-3 were not defined. Please run utils/define_conversion_parameters.py for subject Ca_EEG3-3.\n"
     ]
    },
    {
     "name": "stderr",
     "output_type": "stream",
     "text": [
      "  0%|          | 0/80 [00:00<?, ?it/s]"
     ]
    }
   ],
   "execution_count": null
  }
 ],
 "metadata": {
  "kernelspec": {
   "display_name": "Python 3 (ipykernel)",
   "language": "python",
   "name": "python3"
  },
  "language_info": {
   "codemirror_mode": {
    "name": "ipython",
    "version": 3
   },
   "file_extension": ".py",
   "mimetype": "text/x-python",
   "name": "python",
   "nbconvert_exporter": "python",
   "pygments_lexer": "ipython3",
   "version": "3.12.6"
  }
 },
 "nbformat": 4,
 "nbformat_minor": 5
}
